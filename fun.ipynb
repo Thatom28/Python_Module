{
 "cells": [
  {
   "cell_type": "code",
   "execution_count": 1,
   "metadata": {},
   "outputs": [
    {
     "data": {
      "text/plain": [
       "[2, 4, 6]"
      ]
     },
     "execution_count": 1,
     "metadata": {},
     "output_type": "execute_result"
    }
   ],
   "source": [
    "nums = [2,4,6]\n",
    "nums"
   ]
  },
  {
   "cell_type": "code",
   "execution_count": 2,
   "metadata": {},
   "outputs": [
    {
     "name": "stdout",
     "output_type": "stream",
     "text": [
      "{'posts': [{'author': 'Alice',\n",
      "            'comments': [{'comment': 'Great post!',\n",
      "                          'date': '2024-01-02',\n",
      "                          'user': 'Bob'},\n",
      "                         {'comment': 'Very informative.',\n",
      "                          'date': '2024-01-03',\n",
      "                          'user': 'Charlie'}],\n",
      "            'published_date': '2024-01-01',\n",
      "            'title': 'The Future of AI'},\n",
      "           {'author': 'Bob',\n",
      "            'comments': [{'comment': 'Thanks for the tips.',\n",
      "                          'date': '2024-02-16',\n",
      "                          'user': 'Alice'}],\n",
      "            'published_date': '2024-02-15',\n",
      "            'title': 'Learning Python'},\n",
      "           {'author': 'Charlie',\n",
      "            'comments': [],\n",
      "            'published_date': '2024-03-01',\n",
      "            'title': 'Web Development Trends'}]}\n"
     ]
    }
   ],
   "source": [
    "import json\n",
    "from pprint import pprint\n",
    "posts = {}\n",
    "with open(\"Day_15_blog_post.json\", \"r\") as json_file:\n",
    "    posts = json.load(json_file)\n",
    "pprint(posts)"
   ]
  }
 ],
 "metadata": {
  "kernelspec": {
   "display_name": "myenv",
   "language": "python",
   "name": "python3"
  },
  "language_info": {
   "codemirror_mode": {
    "name": "ipython",
    "version": 3
   },
   "file_extension": ".py",
   "mimetype": "text/x-python",
   "name": "python",
   "nbconvert_exporter": "python",
   "pygments_lexer": "ipython3",
   "version": "3.10.8"
  }
 },
 "nbformat": 4,
 "nbformat_minor": 2
}
