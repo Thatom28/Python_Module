{
 "cells": [
  {
   "cell_type": "markdown",
   "metadata": {},
   "source": [
    "data analysts -SQL and data scientists\n",
    "\n",
    "- SQl\n",
    "- one shot query\n",
    "- programmers\n",
    "- power BI -charts if they need to visualize\n",
    "\n",
    "Data science\n",
    "- excel\n",
    "- line by line\n",
    "- python (numpy and pandas - no licence fee because it is opensource\n",
    "-scale, it can \n",
    "- scikeit - used for data prediction)\n",
    "- matplot (used to visualize)"
   ]
  },
  {
   "cell_type": "code",
   "execution_count": 2,
   "metadata": {},
   "outputs": [
    {
     "name": "stdout",
     "output_type": "stream",
     "text": [
      "Requirement already satisfied: numpy in c:\\users\\e1005292\\onedrive - sanlam life insurance limited\\documents\\python basics\\python_module\\myenv\\lib\\site-packages (1.26.4)\n",
      "Note: you may need to restart the kernel to use updated packages.\n"
     ]
    },
    {
     "name": "stderr",
     "output_type": "stream",
     "text": [
      "\n",
      "[notice] A new release of pip available: 22.2.2 -> 24.0\n",
      "[notice] To update, run: python.exe -m pip install --upgrade pip\n"
     ]
    }
   ],
   "source": [
    "%pip install numpy"
   ]
  },
  {
   "cell_type": "markdown",
   "metadata": {},
   "source": [
    "## Numpy\n",
    "- they work with arrays and- they are perfomant -> it works after with array\n",
    "- because they use the C language in numpy\n",
    "- statistical orientated (mean, mode)\n"
   ]
  },
  {
   "cell_type": "code",
   "execution_count": 3,
   "metadata": {},
   "outputs": [],
   "source": [
    "import numpy as np"
   ]
  },
  {
   "cell_type": "markdown",
   "metadata": {},
   "source": [
    "## shortcuts\n",
    "- ctrl + alt + enter -. run the cell\n",
    "- shift + enter -> move to next cell"
   ]
  },
  {
   "cell_type": "code",
   "execution_count": 4,
   "metadata": {},
   "outputs": [
    {
     "name": "stdout",
     "output_type": "stream",
     "text": [
      "[180, 160, 100, 80]\n"
     ]
    }
   ],
   "source": [
    "marks= np.array([90, 80, 50, 40])\n",
    "marks * 2\n",
    "\n",
    "marks2 = [90, 80, 50, 40]\n",
    "m = [x * 2 for x in marks2]\n",
    "print(m)"
   ]
  },
  {
   "cell_type": "markdown",
   "metadata": {},
   "source": [
    "# making large arrays\n",
    "- this will create 1, 20 times\n",
    "\n",
    "# what is a matrix?\n",
    "- collection of numbers arranged in columns and rows\n",
    " - 1 2 3\n",
    " - 4 5 6   3rowsx 3colums matrix\n",
    " - 7 8 9\n",
    "  - if you combine the two matrix together, they will add the first number of the fisrt set and add it to the fist number of the matrix\n",
    "    second one, and so on.."
   ]
  },
  {
   "cell_type": "code",
   "execution_count": 5,
   "metadata": {},
   "outputs": [
    {
     "data": {
      "text/plain": [
       "array([0., 0., 0., 0., 0., 0., 0., 0., 0., 0., 0., 0., 0., 0.])"
      ]
     },
     "execution_count": 5,
     "metadata": {},
     "output_type": "execute_result"
    }
   ],
   "source": [
    "np.ones(14)  #identity matrix  [1-D matrix]\n",
    "np.zeros(14)"
   ]
  },
  {
   "cell_type": "code",
   "execution_count": 27,
   "metadata": {},
   "outputs": [
    {
     "data": {
      "text/plain": [
       "array([0, 1, 2, 3, 4, 5, 6, 7, 8, 9])"
      ]
     },
     "execution_count": 27,
     "metadata": {},
     "output_type": "execute_result"
    }
   ],
   "source": [
    "n =np.arange(10)\n",
    "np.arange(1, 10, 2)"
   ]
  },
  {
   "cell_type": "markdown",
   "metadata": {},
   "source": [
    "## Operation that can be done with\n",
    "- Addition\n",
    "- multiplecation\n",
    "- division\n",
    "- Boolean matrix"
   ]
  },
  {
   "cell_type": "code",
   "execution_count": 29,
   "metadata": {},
   "outputs": [
    {
     "name": "stdout",
     "output_type": "stream",
     "text": [
      "[0 1 2 3 4 5 6 7 8 9]\n",
      "[ 2  3  4  5  6  7  8  9 10 11]\n",
      "[-2 -1  0  1  2  3  4  5  6  7]\n",
      "[ 0  2  4  6  8 10 12 14 16 18]\n",
      "[0.  0.5 1.  1.5 2.  2.5 3.  3.5 4.  4.5]\n"
     ]
    }
   ],
   "source": [
    "normal = np.arange(10)\n",
    "multiplying = np.arange(10) *2\n",
    "adding = np.arange(10) + 2\n",
    "divising = np.arange(10) / 2\n",
    "subtracting = np.arange(10) -2\n",
    "\n",
    "print(normal)\n",
    "print(adding)\n",
    "print(subtracting)\n",
    "print(multiplying) \n",
    "print(divising)"
   ]
  },
  {
   "cell_type": "code",
   "execution_count": 8,
   "metadata": {},
   "outputs": [
    {
     "name": "stdout",
     "output_type": "stream",
     "text": [
      "[ 6  7  8  9 10]\n",
      "[ 6  7  8  9 10]\n"
     ]
    }
   ],
   "source": [
    "first_ten_nums = np.arange(1, 11)\n",
    "all_greater_five = first_ten_nums > 5\n",
    "print(first_ten_nums[all_greater_five])\n",
    "print(first_ten_nums[first_ten_nums > 5])"
   ]
  },
  {
   "cell_type": "markdown",
   "metadata": {},
   "source": [
    "## Task 1\n",
    "Create a 1..200 numbers and provide a numpy array with all even numbers using skip"
   ]
  },
  {
   "cell_type": "code",
   "execution_count": 9,
   "metadata": {},
   "outputs": [
    {
     "name": "stdout",
     "output_type": "stream",
     "text": [
      "[  2   4   6   8  10  12  14  16  18  20  22  24  26  28  30  32  34  36\n",
      "  38  40  42  44  46  48  50  52  54  56  58  60  62  64  66  68  70  72\n",
      "  74  76  78  80  82  84  86  88  90  92  94  96  98 100 102 104 106 108\n",
      " 110 112 114 116 118 120 122 124 126 128 130 132 134 136 138 140 142 144\n",
      " 146 148 150 152 154 156 158 160 162 164 166 168 170 172 174 176 178 180\n",
      " 182 184 186 188 190 192 194 196 198]\n"
     ]
    }
   ],
   "source": [
    "nums_200 = np.arange(2, 200, 2)\n",
    "print(nums_200)"
   ]
  },
  {
   "cell_type": "markdown",
   "metadata": {},
   "source": [
    "## Task 2\n",
    "- Create a 1..200 numbers and provide a numpy array with all even numbers without using  skip"
   ]
  },
  {
   "cell_type": "code",
   "execution_count": 10,
   "metadata": {},
   "outputs": [
    {
     "name": "stdout",
     "output_type": "stream",
     "text": [
      "[  2   4   6   8  10  12  14  16  18  20  22  24  26  28  30  32  34  36\n",
      "  38  40  42  44  46  48  50  52  54  56  58  60  62  64  66  68  70  72\n",
      "  74  76  78  80  82  84  86  88  90  92  94  96  98 100 102 104 106 108\n",
      " 110 112 114 116 118 120 122 124 126 128 130 132 134 136 138 140 142 144\n",
      " 146 148 150 152 154 156 158 160 162 164 166 168 170 172 174 176 178 180\n",
      " 182 184 186 188 190 192 194 196 198]\n"
     ]
    }
   ],
   "source": [
    "nums_200 = np.arange(1, 200)\n",
    "even_nums = nums_200 % 2 == 0\n",
    "print(nums_200[even_nums])"
   ]
  },
  {
   "cell_type": "markdown",
   "metadata": {},
   "source": [
    "# getting random numbers to the list"
   ]
  },
  {
   "cell_type": "code",
   "execution_count": 11,
   "metadata": {},
   "outputs": [
    {
     "data": {
      "text/plain": [
       "[31, 57, 49, 51, 50, 33, 47, 25, 42, 20]"
      ]
     },
     "execution_count": 11,
     "metadata": {},
     "output_type": "execute_result"
    }
   ],
   "source": [
    "ages = np.random.randint(18, 60, 10)\n",
    "ages_list = ages.tolist()\n",
    "ages_list"
   ]
  },
  {
   "cell_type": "code",
   "execution_count": 12,
   "metadata": {},
   "outputs": [
    {
     "name": "stdout",
     "output_type": "stream",
     "text": [
      "[62, 114, 98, 102, 100, 66, 94, 50, 84, 40]\n",
      "CPU times: total: 0 ns\n",
      "Wall time: 0 ns\n"
     ]
    }
   ],
   "source": [
    "%%time  \n",
    "double_ages = [age * 2 for age in ages_list]\n",
    "print(double_ages)"
   ]
  },
  {
   "cell_type": "markdown",
   "metadata": {},
   "source": [
    "## statistical orientation - mode, mean, median, std, sum\n",
    "\n",
    "- mean -> average\n",
    "- mode -> the most repeated\n",
    "- median _ . the middle number\n",
    "- standard diviation -> how far the gap between the average and every other value\n",
    "- sum(list)"
   ]
  },
  {
   "cell_type": "code",
   "execution_count": 13,
   "metadata": {},
   "outputs": [
    {
     "data": {
      "text/plain": [
       "array([71, 53, 62, 43, 74, 96, 82, 56, 47, 66])"
      ]
     },
     "execution_count": 13,
     "metadata": {},
     "output_type": "execute_result"
    }
   ],
   "source": [
    "marks = np.random.randint(40, 100, 10)\n",
    "marks"
   ]
  },
  {
   "cell_type": "markdown",
   "metadata": {},
   "source": [
    "## methods\n",
    "- np.median(list)\n",
    "- np.mean(list)\n",
    "- np.mode(list)"
   ]
  },
  {
   "cell_type": "code",
   "execution_count": 14,
   "metadata": {},
   "outputs": [
    {
     "name": "stdout",
     "output_type": "stream",
     "text": [
      "[71 53 62 43 74 96 82 56 47 66]\n",
      "65.0\n"
     ]
    }
   ],
   "source": [
    "print(marks)\n",
    "print(marks.mean())\n",
    "# print(marks.mode())"
   ]
  },
  {
   "cell_type": "code",
   "execution_count": 15,
   "metadata": {},
   "outputs": [
    {
     "data": {
      "text/plain": [
       "15.524174696260024"
      ]
     },
     "execution_count": 15,
     "metadata": {},
     "output_type": "execute_result"
    }
   ],
   "source": [
    "np.std(marks)"
   ]
  },
  {
   "cell_type": "markdown",
   "metadata": {},
   "source": [
    "## Task 1\n",
    "- in 10 years add 5% to the balance\n",
    "\n",
    "## Task 2\n",
    "at the end of ten years what will be the balance"
   ]
  },
  {
   "cell_type": "code",
   "execution_count": 16,
   "metadata": {},
   "outputs": [
    {
     "data": {
      "text/plain": [
       "array([1050.        , 1102.5       , 1157.625     , 1215.50625   ,\n",
       "       1276.2815625 , 1340.09564063, 1407.10042266, 1477.45544379,\n",
       "       1551.32821598, 1628.89462678])"
      ]
     },
     "execution_count": 16,
     "metadata": {},
     "output_type": "execute_result"
    }
   ],
   "source": [
    "investment = 1000\n",
    "rate_of_invenstment = 1.05\n",
    "years = np.arange(1, 11)\n",
    "year_by_year = investment * (rate_of_invenstment) ** years\n",
    "year_by_year\n",
    "\n"
   ]
  },
  {
   "cell_type": "code",
   "execution_count": 17,
   "metadata": {},
   "outputs": [
    {
     "data": {
      "text/plain": [
       "1628.894626777442"
      ]
     },
     "execution_count": 17,
     "metadata": {},
     "output_type": "execute_result"
    }
   ],
   "source": [
    "year_by_year[-1]  # the last element"
   ]
  },
  {
   "cell_type": "code",
   "execution_count": 18,
   "metadata": {},
   "outputs": [
    {
     "data": {
      "text/plain": [
       "55.132821597851624"
      ]
     },
     "execution_count": 18,
     "metadata": {},
     "output_type": "execute_result"
    }
   ],
   "source": [
    "diff = year_by_year[-1] - year_by_year[0]\n",
    "average = (diff/year_by_year[0]) * 100\n",
    "average\n"
   ]
  },
  {
   "cell_type": "markdown",
   "metadata": {},
   "source": [
    "## useful methods\n",
    "\n",
    "- string  methods\n",
    "- unique\n",
    "- min , max"
   ]
  },
  {
   "cell_type": "code",
   "execution_count": 19,
   "metadata": {},
   "outputs": [
    {
     "name": "stdout",
     "output_type": "stream",
     "text": [
      "[8683 3958 7052 9321 3518 4225 1049 4538 7523 7738]\n"
     ]
    }
   ],
   "source": [
    "salaries = np.random.randint(1_000, 10_000, 10)\n",
    "print(salaries)\n"
   ]
  },
  {
   "cell_type": "code",
   "execution_count": 20,
   "metadata": {},
   "outputs": [
    {
     "name": "stdout",
     "output_type": "stream",
     "text": [
      "9321 3\n",
      "1049 6\n"
     ]
    }
   ],
   "source": [
    "print(np.max(salaries), np.argmax(salaries))  # the index of the max\n",
    "print(np.min(salaries), np.argmin(salaries))"
   ]
  },
  {
   "cell_type": "code",
   "execution_count": 21,
   "metadata": {},
   "outputs": [
    {
     "data": {
      "text/plain": [
       "array([3, 2, 3, 1, 3, 1, 1, 1, 1, 2])"
      ]
     },
     "execution_count": 21,
     "metadata": {},
     "output_type": "execute_result"
    }
   ],
   "source": [
    "nums = np.random.randint(1, 4, 10)\n",
    "nums"
   ]
  },
  {
   "cell_type": "markdown",
   "metadata": {},
   "source": [
    "## To get unique values\n",
    "- np.unique(list)\n",
    "- flipping the list"
   ]
  },
  {
   "cell_type": "code",
   "execution_count": 22,
   "metadata": {},
   "outputs": [
    {
     "data": {
      "text/plain": [
       "array([3, 2, 1])"
      ]
     },
     "execution_count": 22,
     "metadata": {},
     "output_type": "execute_result"
    }
   ],
   "source": [
    "unique_nums = np.unique(nums)\n",
    "np.flip(unique_nums)"
   ]
  },
  {
   "cell_type": "code",
   "execution_count": 23,
   "metadata": {},
   "outputs": [],
   "source": [
    "items = np.array([' Apple', 'banana ', 'GRAPE', 'cucumber', 'Pineapple', ' tomato ', 'Orange', ' lemon', 'Kiwi ', 'mango', 'blueberry ', ' raspberry'])\n",
    "# np.char.lower(items) #the list is not manipulated at the top\n"
   ]
  },
  {
   "cell_type": "markdown",
   "metadata": {},
   "source": [
    "## task 1\n",
    "Normalize the array"
   ]
  },
  {
   "cell_type": "code",
   "execution_count": 30,
   "metadata": {},
   "outputs": [
    {
     "name": "stdout",
     "output_type": "stream",
     "text": [
      "['Apple' 'banana' 'GRAPE' 'cucumber' 'Pineapple' 'tomato' 'Orange' 'lemon'\n",
      " 'Kiwi' 'mango' 'blueberry' 'raspberry']\n"
     ]
    },
    {
     "data": {
      "text/plain": [
       "array(['apple', 'banana', 'blueberry', 'cucumber', 'grape', 'kiwi',\n",
       "       'lemon', 'mango', 'orange', 'pineapple', 'raspberry', 'tomato'],\n",
       "      dtype='<U10')"
      ]
     },
     "execution_count": 30,
     "metadata": {},
     "output_type": "execute_result"
    }
   ],
   "source": [
    "stripped_items = np.char.strip(items) \n",
    "lower_items = np.char.lower(stripped_items)\n",
    "unique_items =np.unique(lower_items)\n",
    "unique_items"
   ]
  },
  {
   "cell_type": "markdown",
   "metadata": {},
   "source": [
    "## task 2\n",
    "Filter Operations\n",
    "\n",
    "a. Find and display all the items with letter b"
   ]
  },
  {
   "cell_type": "code",
   "execution_count": 31,
   "metadata": {},
   "outputs": [
    {
     "ename": "TypeError",
     "evalue": "startswith() missing 1 required positional argument: 'prefix'",
     "output_type": "error",
     "traceback": [
      "\u001b[1;31m---------------------------------------------------------------------------\u001b[0m",
      "\u001b[1;31mTypeError\u001b[0m                                 Traceback (most recent call last)",
      "Cell \u001b[1;32mIn[31], line 1\u001b[0m\n\u001b[1;32m----> 1\u001b[0m starts_b\u001b[38;5;241m=\u001b[39m\u001b[43mnp\u001b[49m\u001b[38;5;241;43m.\u001b[39;49m\u001b[43mchar\u001b[49m\u001b[38;5;241;43m.\u001b[39;49m\u001b[43mstartswith\u001b[49m\u001b[43m(\u001b[49m\u001b[38;5;124;43m'\u001b[39;49m\u001b[38;5;124;43mb\u001b[39;49m\u001b[38;5;124;43m'\u001b[39;49m\u001b[43m)\u001b[49m\n\u001b[0;32m      2\u001b[0m starts_b\n\u001b[0;32m      3\u001b[0m \u001b[38;5;66;03m# b_items =[]\u001b[39;00m\n\u001b[0;32m      4\u001b[0m \u001b[38;5;66;03m# for item in unique_items:\u001b[39;00m\n\u001b[0;32m      5\u001b[0m \u001b[38;5;66;03m#     if item[0] == \"b\":\u001b[39;00m\n\u001b[1;32m   (...)\u001b[0m\n\u001b[0;32m     16\u001b[0m \u001b[38;5;66;03m#  b_items = [re.search(r'b+', unique_items)]\u001b[39;00m\n\u001b[0;32m     17\u001b[0m \u001b[38;5;66;03m# b_items\u001b[39;00m\n",
      "\u001b[1;31mTypeError\u001b[0m: startswith() missing 1 required positional argument: 'prefix'"
     ]
    }
   ],
   "source": [
    "starts_b=np.char.startswith('b')\n",
    "starts_b\n",
    "# b_items =[]\n",
    "# for item in unique_items:\n",
    "#     if item[0] == \"b\":\n",
    "#      b_items.append(item)\n",
    "\n",
    "# b_items\n",
    "\n",
    "# b_item = []\n",
    "# for item in items:\n",
    "#     if item[0] == 'b':\n",
    "#         b_item.append()\n",
    "# b_item\n",
    "\n",
    "#  b_items = [re.search(r'b+', unique_items)]\n",
    "# b_items"
   ]
  },
  {
   "cell_type": "code",
   "execution_count": 32,
   "metadata": {},
   "outputs": [
    {
     "data": {
      "text/plain": [
       "[array([ True, False, False,  True,  True, False,  True, False,  True,\n",
       "        False,  True, False])]"
      ]
     },
     "execution_count": 32,
     "metadata": {},
     "output_type": "execute_result"
    }
   ],
   "source": [
    "has_e=[np.char.count(unique_items, 'e') == 1]\n",
    "has_e"
   ]
  },
  {
   "cell_type": "code",
   "execution_count": null,
   "metadata": {},
   "outputs": [
    {
     "data": {
      "text/plain": [
       "0"
      ]
     },
     "execution_count": 131,
     "metadata": {},
     "output_type": "execute_result"
    }
   ],
   "source": [
    "hourly_visitors = [468, 279,  73, 272 ,406 ,128 ,302 ,216, 140 , 82]\n",
    "#Total visitors a day\n",
    "np.sum(hourly_visitors)\n",
    "#which is the peak hour\n",
    "np.argmax(hourly_visitors)\n",
    "#average\n",
    "np.mean(hourly_visitors)"
   ]
  },
  {
   "cell_type": "markdown",
   "metadata": {},
   "source": [
    "## 2D matrix\n",
    "- array inside an array"
   ]
  },
  {
   "cell_type": "code",
   "execution_count": null,
   "metadata": {},
   "outputs": [
    {
     "data": {
      "text/plain": [
       "array([[ 1,  2,  4],\n",
       "       [ 6,  7, 77],\n",
       "       [ 9, 20, 24]])"
      ]
     },
     "execution_count": 141,
     "metadata": {},
     "output_type": "execute_result"
    }
   ],
   "source": [
    "num_3D = np.array([[1,2,4], \n",
    "                  [6,7,77],\n",
    "                  [9,20,24]])\n",
    "num_3D.shape"
   ]
  },
  {
   "cell_type": "markdown",
   "metadata": {},
   "source": [
    "## shape\n",
    "- returns the matrix structure. e.g (0,9)"
   ]
  },
  {
   "cell_type": "code",
   "execution_count": null,
   "metadata": {},
   "outputs": [
    {
     "data": {
      "text/plain": [
       "(9,)"
      ]
     },
     "execution_count": 139,
     "metadata": {},
     "output_type": "execute_result"
    }
   ],
   "source": [
    "nums1 = np.arange(1, 10)\n",
    "nums1.shape"
   ]
  },
  {
   "cell_type": "markdown",
   "metadata": {},
   "source": [
    "- reshaping a 1D array to a 2d array\n",
    "- you can perfom statistical methods"
   ]
  },
  {
   "cell_type": "code",
   "execution_count": null,
   "metadata": {},
   "outputs": [
    {
     "data": {
      "text/plain": [
       "45"
      ]
     },
     "execution_count": 173,
     "metadata": {},
     "output_type": "execute_result"
    }
   ],
   "source": [
    "nums_3x3 = nums1.reshape(3,3)\n",
    "np.sum(nums_3x3)"
   ]
  },
  {
   "cell_type": "code",
   "execution_count": null,
   "metadata": {},
   "outputs": [
    {
     "name": "stdout",
     "output_type": "stream",
     "text": [
      "[[ 1  2  4]\n",
      " [ 6  7 77]\n",
      " [ 9 20 24]]\n"
     ]
    },
    {
     "data": {
      "text/plain": [
       "150"
      ]
     },
     "execution_count": 164,
     "metadata": {},
     "output_type": "execute_result"
    }
   ],
   "source": [
    "print(num_3D)\n",
    "np.sum(num_3D, axis=0) # the sum across the column\n",
    "np.sum(num_3D, axis=1) #Te sum across the row\n",
    "\n",
    "np.sum(np.sum(num_3D, axis=1))"
   ]
  },
  {
   "cell_type": "code",
   "execution_count": null,
   "metadata": {},
   "outputs": [
    {
     "data": {
      "text/plain": [
       "array([94, 59, 85, 72, 63, 44, 91, 94, 46])"
      ]
     },
     "execution_count": 161,
     "metadata": {},
     "output_type": "execute_result"
    }
   ],
   "source": [
    "stats = np.random.randint(40, 100, 9)\n",
    "stats"
   ]
  },
  {
   "cell_type": "code",
   "execution_count": null,
   "metadata": {},
   "outputs": [
    {
     "data": {
      "text/plain": [
       "array([[94, 59, 85],\n",
       "       [72, 63, 44],\n",
       "       [91, 94, 46]])"
      ]
     },
     "execution_count": 167,
     "metadata": {},
     "output_type": "execute_result"
    }
   ],
   "source": [
    "stats_3x3 = stats.reshape(3, 3)\n",
    "stats_3x3  #Note to always have the right amount of values to fit\n",
    "#the array"
   ]
  },
  {
   "cell_type": "code",
   "execution_count": null,
   "metadata": {},
   "outputs": [
    {
     "name": "stdout",
     "output_type": "stream",
     "text": [
      "firt array\" [[ 1  2  4]\n",
      " [ 6  7 77]\n",
      " [ 9 20 24]]\n",
      "second [[94 59 85]\n",
      " [72 63 44]\n",
      " [91 94 46]]\n",
      "results [[ 95  61  89]\n",
      " [ 78  70 121]\n",
      " [100 114  70]]\n"
     ]
    }
   ],
   "source": [
    "print(f'firt array\\n\" {num_3D}')\n",
    "print(f'second {stats_3x3}')\n",
    "print(f'results {num_3D + stats_3x3}')"
   ]
  },
  {
   "cell_type": "markdown",
   "metadata": {},
   "source": [
    "## task 1"
   ]
  },
  {
   "cell_type": "code",
   "execution_count": 35,
   "metadata": {},
   "outputs": [
    {
     "name": "stdout",
     "output_type": "stream",
     "text": [
      "results \n",
      " [[23.5 24.  23. ]\n",
      " [21.  21.5 21.5]\n",
      " [25.5 25.5 25. ]]\n",
      "[23.33333333 20.33333333 25.        ]\n"
     ]
    }
   ],
   "source": [
    "sensor1 = np.array([[23, 25, 22],\n",
    "                    [20, 21, 20],\n",
    "                    [26, 25, 24]])\n",
    " \n",
    "sensor2 = np.array([[24, 23, 24],\n",
    "                    [22, 22, 23],\n",
    "                    [25, 26, 26]])\n",
    "print(f'results \\n {(sensor1 + sensor2)/2}')"
   ]
  },
  {
   "cell_type": "markdown",
   "metadata": {},
   "source": [
    "## Task 2\n",
    "find the average cross the suit"
   ]
  },
  {
   "cell_type": "code",
   "execution_count": null,
   "metadata": {},
   "outputs": [
    {
     "name": "stdout",
     "output_type": "stream",
     "text": [
      "[23.33333333 20.33333333 25.        ]\n",
      "[23.66666667 22.33333333 25.66666667]\n"
     ]
    }
   ],
   "source": [
    "sensor1_across = np.mean(sensor1, axis=1)\n",
    "print(sensor1_across)\n",
    "sensor2_across = np.mean(sensor2, axis=1)\n",
    "print(sensor2_across)"
   ]
  },
  {
   "cell_type": "markdown",
   "metadata": {},
   "source": [
    "## task 3\n",
    "combine the average temp of sensor 1 and 2 per suite"
   ]
  },
  {
   "cell_type": "code",
   "execution_count": null,
   "metadata": {},
   "outputs": [
    {
     "name": "stdout",
     "output_type": "stream",
     "text": [
      "[23.5        21.33333333 25.33333333]\n"
     ]
    }
   ],
   "source": [
    "print((sensor1_across + sensor2_across) / 2)"
   ]
  }
 ],
 "metadata": {
  "kernelspec": {
   "display_name": "myenv",
   "language": "python",
   "name": "python3"
  },
  "language_info": {
   "codemirror_mode": {
    "name": "ipython",
    "version": 3
   },
   "file_extension": ".py",
   "mimetype": "text/x-python",
   "name": "python",
   "nbconvert_exporter": "python",
   "pygments_lexer": "ipython3",
   "version": "3.10.8"
  }
 },
 "nbformat": 4,
 "nbformat_minor": 2
}
