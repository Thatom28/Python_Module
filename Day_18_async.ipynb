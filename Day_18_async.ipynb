{
 "cells": [
  {
   "cell_type": "code",
   "execution_count": 1,
   "metadata": {},
   "outputs": [
    {
     "name": "stdout",
     "output_type": "stream",
     "text": [
      "Requirement already satisfied: requests in c:\\users\\e1005292\\onedrive - sanlam life insurance limited\\documents\\python basics\\python_module\\myenv\\lib\\site-packages (2.31.0)\n",
      "Requirement already satisfied: charset-normalizer<4,>=2 in c:\\users\\e1005292\\onedrive - sanlam life insurance limited\\documents\\python basics\\python_module\\myenv\\lib\\site-packages (from requests) (3.3.2)\n",
      "Requirement already satisfied: urllib3<3,>=1.21.1 in c:\\users\\e1005292\\onedrive - sanlam life insurance limited\\documents\\python basics\\python_module\\myenv\\lib\\site-packages (from requests) (2.2.1)\n",
      "Requirement already satisfied: idna<4,>=2.5 in c:\\users\\e1005292\\onedrive - sanlam life insurance limited\\documents\\python basics\\python_module\\myenv\\lib\\site-packages (from requests) (3.6)\n",
      "Requirement already satisfied: certifi>=2017.4.17 in c:\\users\\e1005292\\onedrive - sanlam life insurance limited\\documents\\python basics\\python_module\\myenv\\lib\\site-packages (from requests) (2024.2.2)\n",
      "Note: you may need to restart the kernel to use updated packages.\n"
     ]
    },
    {
     "name": "stderr",
     "output_type": "stream",
     "text": [
      "\n",
      "[notice] A new release of pip available: 22.2.2 -> 24.0\n",
      "[notice] To update, run: python.exe -m pip install --upgrade pip\n"
     ]
    }
   ],
   "source": [
    "%pip install requests"
   ]
  },
  {
   "cell_type": "code",
   "execution_count": 2,
   "metadata": {},
   "outputs": [],
   "source": [
    "import requests\n"
   ]
  },
  {
   "cell_type": "code",
   "execution_count": 3,
   "metadata": {},
   "outputs": [
    {
     "name": "stderr",
     "output_type": "stream",
     "text": [
      "c:\\Users\\E1005292\\OneDrive - Sanlam Life Insurance Limited\\Documents\\Python basics\\Python_Module\\myenv\\lib\\site-packages\\urllib3\\connectionpool.py:1103: InsecureRequestWarning: Unverified HTTPS request is being made to host 'restcountries.com'. Adding certificate verification is strongly advised. See: https://urllib3.readthedocs.io/en/latest/advanced-usage.html#tls-warnings\n",
      "  warnings.warn(\n"
     ]
    }
   ],
   "source": [
    "url ='https://restcountries.com/v3.1/all'\n",
    "response = requests.get(url, verify=False)\n",
    "countries = response.json()  #list \n",
    "# type(countries)"
   ]
  },
  {
   "cell_type": "code",
   "execution_count": 4,
   "metadata": {},
   "outputs": [
    {
     "data": {
      "text/plain": [
       "{'name': {'common': 'Cyprus',\n",
       "  'official': 'Republic of Cyprus',\n",
       "  'nativeName': {'ell': {'official': 'Δημοκρατία της Κύπρος',\n",
       "    'common': 'Κύπρος'},\n",
       "   'tur': {'official': 'Kıbrıs Cumhuriyeti', 'common': 'Kıbrıs'}}},\n",
       " 'tld': ['.cy'],\n",
       " 'cca2': 'CY',\n",
       " 'ccn3': '196',\n",
       " 'cca3': 'CYP',\n",
       " 'cioc': 'CYP',\n",
       " 'independent': True,\n",
       " 'status': 'officially-assigned',\n",
       " 'unMember': True,\n",
       " 'currencies': {'EUR': {'name': 'Euro', 'symbol': '€'}},\n",
       " 'idd': {'root': '+3', 'suffixes': ['57']},\n",
       " 'capital': ['Nicosia'],\n",
       " 'altSpellings': ['CY',\n",
       "  'Kýpros',\n",
       "  'Kıbrıs',\n",
       "  'Republic of Cyprus',\n",
       "  'Κυπριακή Δημοκρατία',\n",
       "  'Kıbrıs Cumhuriyeti'],\n",
       " 'region': 'Europe',\n",
       " 'subregion': 'Southern Europe',\n",
       " 'languages': {'ell': 'Greek', 'tur': 'Turkish'},\n",
       " 'translations': {'ara': {'official': 'جمهورية قبرص', 'common': 'قبرص'},\n",
       "  'bre': {'official': 'Republik Kiprenez', 'common': 'Kiprenez'},\n",
       "  'ces': {'official': 'Kyperská republika', 'common': 'Kypr'},\n",
       "  'cym': {'official': 'Gweriniaeth Cyprus', 'common': 'Cyprus'},\n",
       "  'deu': {'official': 'Republik Zypern', 'common': 'Zypern'},\n",
       "  'est': {'official': 'Küprose Vabariik', 'common': 'Küpros'},\n",
       "  'fin': {'official': 'Kyproksen tasavalta', 'common': 'Kypros'},\n",
       "  'fra': {'official': 'République de Chypre', 'common': 'Chypre'},\n",
       "  'hrv': {'official': 'Republika Cipar', 'common': 'Cipar'},\n",
       "  'hun': {'official': 'Ciprusi Köztársaság', 'common': 'Ciprus'},\n",
       "  'ita': {'official': 'Repubblica di Cipro', 'common': 'Cipro'},\n",
       "  'jpn': {'official': 'キプロス共和国', 'common': 'キプロス'},\n",
       "  'kor': {'official': '키프로스 공화국', 'common': '키프로스'},\n",
       "  'nld': {'official': 'Republiek Cyprus', 'common': 'Cyprus'},\n",
       "  'per': {'official': 'جمهوری قبرس', 'common': 'قِبرِس'},\n",
       "  'pol': {'official': 'Republika Cypryjska', 'common': 'Cypr'},\n",
       "  'por': {'official': 'República de Chipre', 'common': 'Chipre'},\n",
       "  'rus': {'official': 'Республика Кипр', 'common': 'Кипр'},\n",
       "  'slk': {'official': 'Cyperská republika', 'common': 'Cyprus'},\n",
       "  'spa': {'official': 'República de Chipre', 'common': 'Chipre'},\n",
       "  'srp': {'official': 'Кипарска Република', 'common': 'Кипар'},\n",
       "  'swe': {'official': 'Republiken Cypern', 'common': 'Cypern'},\n",
       "  'tur': {'official': 'Kıbrıs Cumhuriyeti', 'common': 'Kıbrıs'},\n",
       "  'urd': {'official': 'جمہوریہ قبرص', 'common': 'قبرص'},\n",
       "  'zho': {'official': '塞浦路斯共和国', 'common': '塞浦路斯'}},\n",
       " 'latlng': [35.0, 33.0],\n",
       " 'landlocked': False,\n",
       " 'area': 9251.0,\n",
       " 'demonyms': {'eng': {'f': 'Cypriot', 'm': 'Cypriot'},\n",
       "  'fra': {'f': 'Chypriote', 'm': 'Chypriote'}},\n",
       " 'flag': '🇨🇾',\n",
       " 'maps': {'googleMaps': 'https://goo.gl/maps/77hPBRdLid8yD5Bm7',\n",
       "  'openStreetMaps': 'https://www.openstreetmap.org/relation/307787'},\n",
       " 'population': 1207361,\n",
       " 'gini': {'2018': 32.7},\n",
       " 'fifa': 'CYP',\n",
       " 'car': {'signs': ['CY'], 'side': 'left'},\n",
       " 'timezones': ['UTC+02:00'],\n",
       " 'continents': ['Europe'],\n",
       " 'flags': {'png': 'https://flagcdn.com/w320/cy.png',\n",
       "  'svg': 'https://flagcdn.com/cy.svg',\n",
       "  'alt': 'The flag of Cyprus has a white field, at the center of which is a copper-colored silhouette of the Island of Cyprus above two green olive branches crossed at the stem.'},\n",
       " 'coatOfArms': {'png': 'https://mainfacts.com/media/images/coats_of_arms/cy.png',\n",
       "  'svg': 'https://mainfacts.com/media/images/coats_of_arms/cy.svg'},\n",
       " 'startOfWeek': 'monday',\n",
       " 'capitalInfo': {'latlng': [35.17, 33.37]},\n",
       " 'postalCode': {'format': '####', 'regex': '^(\\\\d{4})$'}}"
      ]
     },
     "execution_count": 4,
     "metadata": {},
     "output_type": "execute_result"
    }
   ],
   "source": [
    "countries[0]"
   ]
  },
  {
   "cell_type": "markdown",
   "metadata": {},
   "source": [
    "# Task 1\n",
    "To print the all the country names in a list\n",
    " \n",
    "## Expected output\n",
    "`['Cyprus', ....\"South Africa\", .... \"India\"]`"
   ]
  },
  {
   "cell_type": "code",
   "execution_count": 5,
   "metadata": {},
   "outputs": [
    {
     "data": {
      "text/plain": [
       "['Cyprus',\n",
       " 'Eritrea',\n",
       " 'Liberia',\n",
       " 'Bermuda',\n",
       " 'Vatican City',\n",
       " 'Cook Islands',\n",
       " 'Somalia',\n",
       " 'Zambia',\n",
       " 'Venezuela',\n",
       " 'Turkmenistan',\n",
       " 'Albania',\n",
       " 'Croatia',\n",
       " 'United Kingdom',\n",
       " 'Sudan',\n",
       " 'Timor-Leste',\n",
       " 'Republic of the Congo',\n",
       " 'Azerbaijan',\n",
       " 'Kenya',\n",
       " 'American Samoa',\n",
       " 'Ivory Coast',\n",
       " 'Senegal',\n",
       " 'Vietnam',\n",
       " 'El Salvador',\n",
       " 'Afghanistan',\n",
       " 'Saint Martin',\n",
       " 'Latvia',\n",
       " 'Guatemala',\n",
       " 'Kuwait',\n",
       " 'São Tomé and Príncipe',\n",
       " 'Kyrgyzstan',\n",
       " 'Poland',\n",
       " 'Guam',\n",
       " 'Ghana',\n",
       " 'Lithuania',\n",
       " 'Armenia',\n",
       " 'Jersey',\n",
       " 'Grenada',\n",
       " 'Tajikistan',\n",
       " 'Ethiopia',\n",
       " 'Western Sahara',\n",
       " 'Morocco',\n",
       " 'Puerto Rico',\n",
       " 'Christmas Island',\n",
       " 'New Zealand',\n",
       " 'Brunei',\n",
       " 'French Guiana',\n",
       " 'Niue',\n",
       " 'Romania',\n",
       " 'Svalbard and Jan Mayen',\n",
       " 'Belarus',\n",
       " 'Panama',\n",
       " 'Cameroon',\n",
       " 'Czechia',\n",
       " 'Saint Barthélemy',\n",
       " 'Greece',\n",
       " 'Mali',\n",
       " 'Martinique',\n",
       " 'France',\n",
       " 'Pakistan',\n",
       " 'Peru',\n",
       " 'Barbados',\n",
       " 'Greenland',\n",
       " 'Saint Pierre and Miquelon',\n",
       " 'Chad',\n",
       " 'Hungary',\n",
       " 'Comoros',\n",
       " 'Bangladesh',\n",
       " 'Tokelau',\n",
       " 'Fiji',\n",
       " 'China',\n",
       " 'Colombia',\n",
       " 'British Virgin Islands',\n",
       " 'Algeria',\n",
       " 'Maldives',\n",
       " 'Malaysia',\n",
       " 'Cayman Islands',\n",
       " 'Spain',\n",
       " 'Ireland',\n",
       " 'Estonia',\n",
       " 'Paraguay',\n",
       " 'Uruguay',\n",
       " 'South Africa',\n",
       " 'Saint Lucia',\n",
       " 'Vanuatu',\n",
       " 'Finland',\n",
       " 'Sweden',\n",
       " 'British Indian Ocean Territory',\n",
       " 'Lebanon',\n",
       " 'United States',\n",
       " 'Chile',\n",
       " 'Norfolk Island',\n",
       " 'Montserrat',\n",
       " 'Australia',\n",
       " 'Belize',\n",
       " 'Guyana',\n",
       " 'Mongolia',\n",
       " 'Tuvalu',\n",
       " 'Dominican Republic',\n",
       " 'Equatorial Guinea',\n",
       " 'Saint Kitts and Nevis',\n",
       " 'Bolivia',\n",
       " 'Nepal',\n",
       " 'French Southern and Antarctic Lands',\n",
       " 'Taiwan',\n",
       " 'Benin',\n",
       " 'Bulgaria',\n",
       " 'Moldova',\n",
       " 'Isle of Man',\n",
       " 'Bhutan',\n",
       " 'Cambodia',\n",
       " 'Antigua and Barbuda',\n",
       " 'Haiti',\n",
       " 'Cape Verde',\n",
       " 'Georgia',\n",
       " 'Burundi',\n",
       " 'Bahamas',\n",
       " 'Mauritius',\n",
       " 'Libya',\n",
       " 'Malawi',\n",
       " 'Mexico',\n",
       " 'Eswatini',\n",
       " 'Papua New Guinea',\n",
       " 'Dominica',\n",
       " 'Liechtenstein',\n",
       " 'Russia',\n",
       " 'Israel',\n",
       " 'Singapore',\n",
       " 'Uganda',\n",
       " 'Slovakia',\n",
       " 'Tonga',\n",
       " 'United Arab Emirates',\n",
       " 'Mayotte',\n",
       " 'Suriname',\n",
       " 'Uzbekistan',\n",
       " 'Saudi Arabia',\n",
       " 'Egypt',\n",
       " 'Italy',\n",
       " 'Madagascar',\n",
       " 'New Caledonia',\n",
       " 'Canada',\n",
       " 'United States Virgin Islands',\n",
       " 'Marshall Islands',\n",
       " 'Mauritania',\n",
       " 'Gambia',\n",
       " 'Trinidad and Tobago',\n",
       " 'Seychelles',\n",
       " 'Japan',\n",
       " 'Brazil',\n",
       " 'Syria',\n",
       " 'Saint Helena, Ascension and Tristan da Cunha',\n",
       " 'Tanzania',\n",
       " 'Andorra',\n",
       " 'Iran',\n",
       " 'Togo',\n",
       " 'Malta',\n",
       " 'South Korea',\n",
       " 'Samoa',\n",
       " 'Germany',\n",
       " 'Niger',\n",
       " 'Bouvet Island',\n",
       " 'Jamaica',\n",
       " 'Nicaragua',\n",
       " 'Guinea',\n",
       " 'Anguilla',\n",
       " 'Åland Islands',\n",
       " 'Belgium',\n",
       " 'Portugal',\n",
       " 'Denmark',\n",
       " 'Philippines',\n",
       " 'Wallis and Futuna',\n",
       " 'Austria',\n",
       " 'Guinea-Bissau',\n",
       " 'Monaco',\n",
       " 'Namibia',\n",
       " 'United States Minor Outlying Islands',\n",
       " 'Costa Rica',\n",
       " 'Bosnia and Herzegovina',\n",
       " 'Macau',\n",
       " 'Mozambique',\n",
       " 'Réunion',\n",
       " 'Montenegro',\n",
       " 'North Korea',\n",
       " 'Northern Mariana Islands',\n",
       " 'Ukraine',\n",
       " 'Iraq',\n",
       " 'South Georgia',\n",
       " 'Angola',\n",
       " 'Sierra Leone',\n",
       " 'Micronesia',\n",
       " 'Cuba',\n",
       " 'Turks and Caicos Islands',\n",
       " 'Serbia',\n",
       " 'Ecuador',\n",
       " 'Faroe Islands',\n",
       " 'Antarctica',\n",
       " 'Palestine',\n",
       " 'Turkey',\n",
       " 'Kiribati',\n",
       " 'Kazakhstan',\n",
       " 'Gibraltar',\n",
       " 'Iceland',\n",
       " 'Palau',\n",
       " 'Qatar',\n",
       " 'Switzerland',\n",
       " 'French Polynesia',\n",
       " 'Pitcairn Islands',\n",
       " 'Jordan',\n",
       " 'Myanmar',\n",
       " 'Thailand',\n",
       " 'Caribbean Netherlands',\n",
       " 'Aruba',\n",
       " 'Guadeloupe',\n",
       " 'Nigeria',\n",
       " 'Bahrain',\n",
       " 'Laos',\n",
       " 'Cocos (Keeling) Islands',\n",
       " 'Djibouti',\n",
       " 'Solomon Islands',\n",
       " 'Heard Island and McDonald Islands',\n",
       " 'India',\n",
       " 'San Marino',\n",
       " 'Luxembourg',\n",
       " 'Sint Maarten',\n",
       " 'Falkland Islands',\n",
       " 'Central African Republic',\n",
       " 'Botswana',\n",
       " 'Curaçao',\n",
       " 'Guernsey',\n",
       " 'Norway',\n",
       " 'Gabon',\n",
       " 'Zimbabwe',\n",
       " 'Lesotho',\n",
       " 'Slovenia',\n",
       " 'Argentina',\n",
       " 'Burkina Faso',\n",
       " 'Yemen',\n",
       " 'DR Congo',\n",
       " 'Oman',\n",
       " 'Indonesia',\n",
       " 'Nauru',\n",
       " 'Rwanda',\n",
       " 'North Macedonia',\n",
       " 'Kosovo',\n",
       " 'Netherlands',\n",
       " 'Tunisia',\n",
       " 'South Sudan',\n",
       " 'Honduras',\n",
       " 'Saint Vincent and the Grenadines',\n",
       " 'Sri Lanka',\n",
       " 'Hong Kong']"
      ]
     },
     "execution_count": 5,
     "metadata": {},
     "output_type": "execute_result"
    }
   ],
   "source": [
    "# lst = [countries['name']['common']]\n",
    "county_names = [country['name']['common'] for country in countries]\n",
    "county_names"
   ]
  },
  {
   "cell_type": "markdown",
   "metadata": {},
   "source": [
    "# Task 2\n",
    "Population more than 10_000_000 & Sorted by population\n",
    " \n",
    "## Expected output\n",
    "`[\"India\", \"China\", \"Russia\" ... ]`"
   ]
  },
  {
   "cell_type": "code",
   "execution_count": 6,
   "metadata": {},
   "outputs": [
    {
     "name": "stdout",
     "output_type": "stream",
     "text": [
      "['Russia', 'Ethiopia', 'Brazil', 'United States', 'India', 'Indonesia', 'Nigeria', 'China', 'Philippines', 'Egypt', 'Mexico', 'Pakistan', 'Bangladesh', 'Japan', 'DR Congo']\n"
     ]
    }
   ],
   "source": [
    "large_population = [country['name']['common'] for country in countries if country['population'] >= 100000000]\n",
    "large_population.sort(key=lambda x: x[1], reverse=True)\n",
    "# sorted_countries = sorted(large_population, key=lambda x: x['population'], reverse=True)\n",
    "# sorted_countries = sorted(large_population, key=lambda x: countries[country_names.index(x)]['population'], reverse=True)\n",
    "# sorted_countries\n",
    "print(large_population)\n"
   ]
  },
  {
   "cell_type": "markdown",
   "metadata": {},
   "source": [
    "## above code using pandas"
   ]
  },
  {
   "cell_type": "code",
   "execution_count": 7,
   "metadata": {},
   "outputs": [],
   "source": [
    "import pandas as pd"
   ]
  },
  {
   "cell_type": "code",
   "execution_count": 8,
   "metadata": {},
   "outputs": [
    {
     "data": {
      "text/plain": [
       "['China',\n",
       " 'India',\n",
       " 'United States',\n",
       " 'Indonesia',\n",
       " 'Pakistan',\n",
       " 'Brazil',\n",
       " 'Nigeria',\n",
       " 'Bangladesh',\n",
       " 'Russia',\n",
       " 'Mexico',\n",
       " 'Japan',\n",
       " 'Ethiopia',\n",
       " 'Philippines',\n",
       " 'DR Congo',\n",
       " 'Egypt',\n",
       " 'Vietnam',\n",
       " 'Turkey',\n",
       " 'Iran',\n",
       " 'Germany',\n",
       " 'Thailand',\n",
       " 'France',\n",
       " 'United Kingdom',\n",
       " 'Tanzania',\n",
       " 'Italy',\n",
       " 'South Africa',\n",
       " 'Myanmar',\n",
       " 'Kenya',\n",
       " 'South Korea',\n",
       " 'Colombia',\n",
       " 'Spain',\n",
       " 'Uganda',\n",
       " 'Argentina',\n",
       " 'Algeria',\n",
       " 'Ukraine',\n",
       " 'Sudan',\n",
       " 'Iraq',\n",
       " 'Afghanistan',\n",
       " 'Canada',\n",
       " 'Poland',\n",
       " 'Morocco',\n",
       " 'Saudi Arabia',\n",
       " 'Uzbekistan',\n",
       " 'Peru',\n",
       " 'Angola',\n",
       " 'Malaysia',\n",
       " 'Mozambique',\n",
       " 'Ghana',\n",
       " 'Yemen',\n",
       " 'Nepal',\n",
       " 'Venezuela',\n",
       " 'Madagascar',\n",
       " 'Cameroon',\n",
       " 'Ivory Coast',\n",
       " 'North Korea',\n",
       " 'Australia',\n",
       " 'Niger',\n",
       " 'Taiwan',\n",
       " 'Sri Lanka',\n",
       " 'Burkina Faso',\n",
       " 'Mali',\n",
       " 'Romania',\n",
       " 'Malawi',\n",
       " 'Chile',\n",
       " 'Kazakhstan',\n",
       " 'Zambia',\n",
       " 'Ecuador',\n",
       " 'Syria',\n",
       " 'Guatemala',\n",
       " 'Senegal',\n",
       " 'Cambodia',\n",
       " 'Netherlands',\n",
       " 'Chad',\n",
       " 'Somalia',\n",
       " 'Zimbabwe',\n",
       " 'Guinea',\n",
       " 'Rwanda',\n",
       " 'Benin',\n",
       " 'Burundi',\n",
       " 'Tunisia',\n",
       " 'Bolivia',\n",
       " 'Belgium',\n",
       " 'Haiti',\n",
       " 'Cuba',\n",
       " 'South Sudan',\n",
       " 'Dominican Republic',\n",
       " 'Greece',\n",
       " 'Czechia',\n",
       " 'Sweden',\n",
       " 'Portugal',\n",
       " 'Jordan',\n",
       " 'Azerbaijan']"
      ]
     },
     "execution_count": 8,
     "metadata": {},
     "output_type": "execute_result"
    }
   ],
   "source": [
    "# df = pd.DataFrame(countries)\n",
    "# df.head(5)\n",
    "# df[['name', 'population']]\n",
    "# df[['common_name'] = df['name'].apply(lambda x:x['common'])]\n",
    "# df[['name', 'population', 'country_name']]\n",
    "# df['large_population'] = df['population'] >= 100000000\n",
    "# # df_sorted = df.sort_values(by='large_population', ascending=False)\n",
    "# # large_population = df_sorted['name'].tolist()\n",
    "# # print(large_population)\n",
    "countries_df =  pd.DataFrame(countries)\n",
    "# countries_df.info()\n",
    "countries_df.head(5)\n",
    "# Pre-processing\n",
    "countries_df[['name', 'population']]\n",
    "countries_df['common_name'] = countries_df['name'].apply(lambda x: x['common'])\n",
    "countries_df[['name', 'population', \"common_name\"]]\n",
    " \n",
    "top_populated_countries_sorted = countries_df[countries_df['population'] >=  10_000_000].sort_values(by=\"population\", ascending=False)\n",
    "top_populated_countries_sorted['common_name'].to_list()"
   ]
  },
  {
   "cell_type": "markdown",
   "metadata": {},
   "source": [
    "# Task 3\n",
    "Population more than 10_000_000 & Sorted by population\n",
    " \n",
    "## Expected output\n",
    "1. India  - 150,000,000\n",
    "2. China  - 120,000,000\n",
    "3. Russia -  80,000,000\n",
    "4. ...\n",
    "5. ..."
   ]
  },
  {
   "cell_type": "code",
   "execution_count": 9,
   "metadata": {},
   "outputs": [],
   "source": [
    "# countries_df =  pd.DataFrame(countries)\n",
    "# countries_df['common_name'] = countries_df['name'].apply(lambda x: x['common'])\n",
    "# top_populated_countries_sorted.reset_index(drop=True, inplace=True)\n",
    "# top_populated_countries_sorted.index += 1\n",
    "# top_populated_countries_sorted[['common_name', \"population\"]]"
   ]
  },
  {
   "cell_type": "code",
   "execution_count": 10,
   "metadata": {},
   "outputs": [],
   "source": [
    "# for country in countries:\n",
    "#     top_letters = len(country['name']['common'])\n",
    "#     sorted(top_letters, )\n",
    "#     print(top_letters)\n"
   ]
  },
  {
   "cell_type": "code",
   "execution_count": 11,
   "metadata": {},
   "outputs": [
    {
     "ename": "TypeError",
     "evalue": "string indices must be integers",
     "output_type": "error",
     "traceback": [
      "\u001b[1;31m---------------------------------------------------------------------------\u001b[0m",
      "\u001b[1;31mTypeError\u001b[0m                                 Traceback (most recent call last)",
      "Cell \u001b[1;32mIn[11], line 2\u001b[0m\n\u001b[0;32m      1\u001b[0m \u001b[38;5;28;01mfor\u001b[39;00m index, country \u001b[38;5;129;01min\u001b[39;00m \u001b[38;5;28menumerate\u001b[39m(top_populated_countries_sorted):\n\u001b[1;32m----> 2\u001b[0m      \u001b[38;5;28mprint\u001b[39m(\u001b[38;5;124mf\u001b[39m\u001b[38;5;124m\"\u001b[39m\u001b[38;5;132;01m{\u001b[39;00mindex\u001b[38;5;250m \u001b[39m\u001b[38;5;241m+\u001b[39m\u001b[38;5;250m \u001b[39m\u001b[38;5;241m1\u001b[39m\u001b[38;5;132;01m:\u001b[39;00m\u001b[38;5;124m2\u001b[39m\u001b[38;5;132;01m}\u001b[39;00m\u001b[38;5;124m \u001b[39m\u001b[38;5;132;01m{\u001b[39;00m\u001b[43mcountry\u001b[49m\u001b[43m[\u001b[49m\u001b[38;5;124;43m'\u001b[39;49m\u001b[38;5;124;43mname\u001b[39;49m\u001b[38;5;124;43m'\u001b[39;49m\u001b[43m]\u001b[49m[\u001b[38;5;124m'\u001b[39m\u001b[38;5;124mcommon\u001b[39m\u001b[38;5;124m'\u001b[39m]\u001b[38;5;132;01m}\u001b[39;00m\u001b[38;5;124m - \u001b[39m\u001b[38;5;132;01m{\u001b[39;00mcountry[\u001b[38;5;124m'\u001b[39m\u001b[38;5;124mpopulation\u001b[39m\u001b[38;5;124m'\u001b[39m]\u001b[38;5;132;01m:\u001b[39;00m\u001b[38;5;124m>20,\u001b[39m\u001b[38;5;132;01m}\u001b[39;00m\u001b[38;5;124m\"\u001b[39m) \u001b[38;5;66;03m#>20 the space and characters should be 20 and comma separated\u001b[39;00m\n",
      "\u001b[1;31mTypeError\u001b[0m: string indices must be integers"
     ]
    }
   ],
   "source": [
    "for index, country in enumerate(top_populated_countries_sorted):\n",
    "     print(f\"{index + 1:2} {country['name']['common']} - {country['population']:>20,}\") #>20 the space and characters should be 20 and comma separated"
   ]
  },
  {
   "cell_type": "code",
   "execution_count": null,
   "metadata": {},
   "outputs": [
    {
     "name": "stdout",
     "output_type": "stream",
     "text": [
      "[[69, 'China', 1402112000], [219, 'India', 1380004385], [88, 'United States', 329484123], [238, 'Indonesia', 273523621], [58, 'Pakistan', 220892331], [147, 'Brazil', 212559409], [212, 'Nigeria', 206139587], [66, 'Bangladesh', 164689383], [124, 'Russia', 144104080], [119, 'Mexico', 128932753], [146, 'Japan', 125836021], [38, 'Ethiopia', 114963583], [168, 'Philippines', 109581085], [236, 'DR Congo', 108407721], [135, 'Egypt', 102334403], [21, 'Vietnam', 97338583], [196, 'Turkey', 84339067], [152, 'Iran', 83992953], [157, 'Germany', 83240525], [208, 'Thailand', 69799978], [57, 'France', 67391582], [12, 'United Kingdom', 67215293], [150, 'Tanzania', 59734213], [136, 'Italy', 59554023], [81, 'South Africa', 59308690], [207, 'Myanmar', 54409794], [17, 'Kenya', 53771300], [155, 'South Korea', 51780579], [70, 'Colombia', 50882884], [76, 'Spain', 47351567], [127, 'Uganda', 45741000], [233, 'Argentina', 45376763], [72, 'Algeria', 44700000], [183, 'Ukraine', 44134693], [13, 'Sudan', 43849269], [184, 'Iraq', 40222503], [23, 'Afghanistan', 40218234], [139, 'Canada', 38005238], [30, 'Poland', 37950802], [40, 'Morocco', 36910558], [134, 'Saudi Arabia', 34813867], [133, 'Uzbekistan', 34232050], [59, 'Peru', 32971846], [186, 'Angola', 32866268], [74, 'Malaysia', 32365998], [178, 'Mozambique', 31255435], [32, 'Ghana', 31072945], [235, 'Yemen', 29825968], [101, 'Nepal', 29136808], [8, 'Venezuela', 28435943], [137, 'Madagascar', 27691019], [51, 'Cameroon', 26545864], [19, 'Ivory Coast', 26378275], [181, 'North Korea', 25778815], [92, 'Australia', 25687041], [158, 'Niger', 24206636], [103, 'Taiwan', 23503349], [248, 'Sri Lanka', 21919000], [234, 'Burkina Faso', 20903278], [55, 'Mali', 20250834], [47, 'Romania', 19286123], [118, 'Malawi', 19129955], [89, 'Chile', 19116209], [198, 'Kazakhstan', 18754440], [7, 'Zambia', 18383956], [192, 'Ecuador', 17643060], [148, 'Syria', 17500657], [26, 'Guatemala', 16858333], [20, 'Senegal', 16743930], [109, 'Cambodia', 16718971], [243, 'Netherlands', 16655799], [63, 'Chad', 16425859], [6, 'Somalia', 15893219], [230, 'Zimbabwe', 14862927], [162, 'Guinea', 13132792], [240, 'Rwanda', 12952209], [104, 'Benin', 12123198], [114, 'Burundi', 11890781], [244, 'Tunisia', 11818618], [100, 'Bolivia', 11673029], [165, 'Belgium', 11555997], [111, 'Haiti', 11402533], [189, 'Cuba', 11326616], [245, 'South Sudan', 11193729], [97, 'Dominican Republic', 10847904], [54, 'Greece', 10715549], [52, 'Czechia', 10698896], [85, 'Sweden', 10353442], [166, 'Portugal', 10305564], [206, 'Jordan', 10203140], [16, 'Azerbaijan', 10110116]]\n"
     ]
    }
   ],
   "source": [
    "countries_df = pd.DataFrame(countries)\n",
    "\n",
    "# Pre-processing: Extracting the common name and selecting relevant columns\n",
    "countries_df['common_name'] = countries_df['name'].apply(lambda x: x['common'])\n",
    "countries_df = countries_df[['common_name', 'population']]\n",
    "\n",
    "# Filtering and sorting the DataFrame\n",
    "top_populated_countries_sorted = countries_df[countries_df['population'] >= 10_000_000].sort_values(by=\"population\", ascending=False)\n",
    "\n",
    "# Resetting index and including it in the output\n",
    "top_populated_countries_sorted.reset_index(inplace=True)\n",
    "\n",
    "# Output\n",
    "output = top_populated_countries_sorted[['index', 'common_name', 'population']].values.tolist()\n",
    "print(output)"
   ]
  },
  {
   "cell_type": "code",
   "execution_count": null,
   "metadata": {},
   "outputs": [
    {
     "data": {
      "text/plain": [
       "{'location': {'name': 'Cape Town',\n",
       "  'region': 'Western Cape',\n",
       "  'country': 'South Africa',\n",
       "  'lat': -33.92,\n",
       "  'lon': 18.42,\n",
       "  'tz_id': 'Africa/Johannesburg',\n",
       "  'localtime_epoch': 1710495952,\n",
       "  'localtime': '2024-03-15 11:45'},\n",
       " 'current': {'last_updated_epoch': 1710495000,\n",
       "  'last_updated': '2024-03-15 11:30',\n",
       "  'temp_c': 24.0,\n",
       "  'temp_f': 75.2,\n",
       "  'is_day': 1,\n",
       "  'condition': {'text': 'Sunny',\n",
       "   'icon': '//cdn.weatherapi.com/weather/64x64/day/113.png',\n",
       "   'code': 1000},\n",
       "  'wind_mph': 12.5,\n",
       "  'wind_kph': 20.2,\n",
       "  'wind_degree': 330,\n",
       "  'wind_dir': 'NNW',\n",
       "  'pressure_mb': 1012.0,\n",
       "  'pressure_in': 29.88,\n",
       "  'precip_mm': 0.0,\n",
       "  'precip_in': 0.0,\n",
       "  'humidity': 50,\n",
       "  'cloud': 0,\n",
       "  'feelslike_c': 25.4,\n",
       "  'feelslike_f': 77.7,\n",
       "  'vis_km': 10.0,\n",
       "  'vis_miles': 6.0,\n",
       "  'uv': 7.0,\n",
       "  'gust_mph': 17.0,\n",
       "  'gust_kph': 27.4}}"
      ]
     },
     "execution_count": 225,
     "metadata": {},
     "output_type": "execute_result"
    }
   ],
   "source": [
    "url ='http://api.weatherapi.com/v1/current.json?key=3ef8f4dc13dd4c7ab8f93110241503&q=Cape%20town&aqi=no'\n",
    "response = requests.get(url, verify=False)\n",
    "weather = response.json()  #list of dictionaries\n",
    "weather"
   ]
  },
  {
   "cell_type": "code",
   "execution_count": null,
   "metadata": {},
   "outputs": [
    {
     "name": "stdout",
     "output_type": "stream",
     "text": [
      "The temperature in Cape Town is 24.0 °C \n"
     ]
    }
   ],
   "source": [
    "def show_temp(data):\n",
    "    temp = weather['current']['temp_c']\n",
    "    name = weather['location']['name']\n",
    "    return f'The temperature in {name} is {temp} °C '\n",
    "\n",
    "print(show_temp(weather))"
   ]
  },
  {
   "cell_type": "markdown",
   "metadata": {},
   "source": [
    "# Task 2\n",
    "Create a function which takes list of cities and provide the corresponding temperature in a dictionary\n",
    " \n",
    "```python\n",
    "cities = [\"Cape town\", \"Johannesburg\", \"Durban\"]\n",
    "```\n",
    " \n",
    " \n",
    "## Expected Output\n",
    "```python\n",
    "{\n",
    "\"Cape town\": 24,\n",
    "\"Johannesburg\": 25,\n",
    "\"Durban\": 18\n",
    "}\n"
   ]
  },
  {
   "cell_type": "code",
   "execution_count": null,
   "metadata": {},
   "outputs": [
    {
     "data": {
      "text/plain": [
       "10.0"
      ]
     },
     "execution_count": 54,
     "metadata": {},
     "output_type": "execute_result"
    }
   ],
   "source": [
    "def get_city_temp(city_name):\n",
    "    # requests -> sync\n",
    "    response = requests.get( f\"http://api.weatherapi.com/v1/current.json?key=f06fdf2d66c24a91a6c93111241503&q={city_name}&aqi=no\", verify=False)\n",
    "    weather = response.json()\n",
    "    return weather['current']['temp_c']\n",
    "get_city_temp('capeTown')\n",
    "    # print(f'The temperature in {weather[\"location\"][\"name\"]} is {int(weather[\"current\"][\"temp_c\"])}°C')"
   ]
  },
  {
   "cell_type": "code",
   "execution_count": null,
   "metadata": {},
   "outputs": [
    {
     "data": {
      "text/plain": [
       "{'Cape town': 17.0, 'Johannesburg': 19.0, 'Durban': 19.7}"
      ]
     },
     "execution_count": 55,
     "metadata": {},
     "output_type": "execute_result"
    }
   ],
   "source": [
    "def get_city_temps(cities):\n",
    "    return {city_name: get_city_temp(city_name) for city_name in cities}\n",
    "cities = [\"Cape town\", \"Johannesburg\", \"Durban\"] \n",
    "get_city_temps(cities)"
   ]
  },
  {
   "cell_type": "code",
   "execution_count": 79,
   "metadata": {},
   "outputs": [
    {
     "ename": "NameError",
     "evalue": "name 'TOKEN' is not defined",
     "output_type": "error",
     "traceback": [
      "\u001b[1;31m---------------------------------------------------------------------------\u001b[0m",
      "\u001b[1;31mNameError\u001b[0m                                 Traceback (most recent call last)",
      "Cell \u001b[1;32mIn[79], line 9\u001b[0m\n\u001b[0;32m      7\u001b[0m \u001b[38;5;28;01mdef\u001b[39;00m \u001b[38;5;21mget_cities_temps\u001b[39m(cities):\n\u001b[0;32m      8\u001b[0m     \u001b[38;5;28;01mreturn\u001b[39;00m {city: get_temp(city) \u001b[38;5;28;01mfor\u001b[39;00m city \u001b[38;5;129;01min\u001b[39;00m cities}  \n\u001b[1;32m----> 9\u001b[0m \u001b[38;5;28mprint\u001b[39m(\u001b[43mget_cities_temps\u001b[49m\u001b[43m(\u001b[49m\u001b[43mcities\u001b[49m\u001b[43m)\u001b[49m)\n",
      "Cell \u001b[1;32mIn[79], line 8\u001b[0m, in \u001b[0;36mget_cities_temps\u001b[1;34m(cities)\u001b[0m\n\u001b[0;32m      7\u001b[0m \u001b[38;5;28;01mdef\u001b[39;00m \u001b[38;5;21mget_cities_temps\u001b[39m(cities):\n\u001b[1;32m----> 8\u001b[0m     \u001b[38;5;28;01mreturn\u001b[39;00m {city: get_temp(city) \u001b[38;5;28;01mfor\u001b[39;00m city \u001b[38;5;129;01min\u001b[39;00m cities}\n",
      "Cell \u001b[1;32mIn[79], line 8\u001b[0m, in \u001b[0;36m<dictcomp>\u001b[1;34m(.0)\u001b[0m\n\u001b[0;32m      7\u001b[0m \u001b[38;5;28;01mdef\u001b[39;00m \u001b[38;5;21mget_cities_temps\u001b[39m(cities):\n\u001b[1;32m----> 8\u001b[0m     \u001b[38;5;28;01mreturn\u001b[39;00m {city: \u001b[43mget_temp\u001b[49m\u001b[43m(\u001b[49m\u001b[43mcity\u001b[49m\u001b[43m)\u001b[49m \u001b[38;5;28;01mfor\u001b[39;00m city \u001b[38;5;129;01min\u001b[39;00m cities}\n",
      "Cell \u001b[1;32mIn[79], line 4\u001b[0m, in \u001b[0;36mget_temp\u001b[1;34m(city)\u001b[0m\n\u001b[0;32m      3\u001b[0m \u001b[38;5;28;01mdef\u001b[39;00m \u001b[38;5;21mget_temp\u001b[39m(city):\n\u001b[1;32m----> 4\u001b[0m    city_data \u001b[38;5;241m=\u001b[39m requests\u001b[38;5;241m.\u001b[39mget(\u001b[38;5;124mf\u001b[39m\u001b[38;5;124m\"\u001b[39m\u001b[38;5;124mhttps://api.weatherapi.com/v1/current.json?key=\u001b[39m\u001b[38;5;132;01m{\u001b[39;00m\u001b[43mTOKEN\u001b[49m\u001b[38;5;132;01m}\u001b[39;00m\u001b[38;5;124m&q=\u001b[39m\u001b[38;5;132;01m{\u001b[39;00mcity\u001b[38;5;132;01m}\u001b[39;00m\u001b[38;5;124m&aqi=no\u001b[39m\u001b[38;5;124m\"\u001b[39m)\n\u001b[0;32m      5\u001b[0m    \u001b[38;5;28;01mreturn\u001b[39;00m city_data\u001b[38;5;241m.\u001b[39mjson()[\u001b[38;5;124m'\u001b[39m\u001b[38;5;124mcurrent\u001b[39m\u001b[38;5;124m'\u001b[39m][\u001b[38;5;124m'\u001b[39m\u001b[38;5;124mtemp_c\u001b[39m\u001b[38;5;124m'\u001b[39m]\n",
      "\u001b[1;31mNameError\u001b[0m: name 'TOKEN' is not defined"
     ]
    }
   ],
   "source": [
    "cities = [\"Cape town\", \"Johannesburg\", \"Durban\"]\n",
    "\n",
    "def get_temp(city):\n",
    "   city_data = requests.get(f\"https://api.weatherapi.com/v1/current.json?key={TOKEN}&q={city}&aqi=no\")\n",
    "   return city_data.json()['current']['temp_c'] \n",
    "\n",
    "def get_cities_temps(cities):\n",
    "    return {city: get_temp(city) for city in cities}  \n",
    "print(get_cities_temps(cities))"
   ]
  },
  {
   "cell_type": "markdown",
   "metadata": {},
   "source": [
    "## sync and async\n",
    "- sync is when the sytem waits for the the request to finish before executing the next request. This\n",
    "- async is when all the reqests are executed at the same time\n",
    "## Threads\n",
    "- the number of tasks that can be run concurrently\n",
    "- a thread can only run one process at a time| one program runs on a thread\n",
    "## multing threading\n",
    "- hard to program\n",
    "- making use of more than one thread- languages that support multi-thread (c++, python)\n",
    "## deadlock\n",
    "-  situation in which two computer programs sharing the same resource are effectively preventing each other\n",
    "   from accessing the resource, resulting in both programs ceasing to function.\n",
    "    - two programs ty to access the same resource\n",
    "- single thread and async will gives the best for both worlds, fast and easy to program\n",
    "## process (16 processor)\n",
    "- a runing process\n",
    "- process keeps oon switching this is why there csn be more tasks running than the thread amount, whatever is priority\n",
    "you can make a progaram run in muliple threads"
   ]
  },
  {
   "cell_type": "markdown",
   "metadata": {},
   "source": [
    "## The power of multithreading\n",
    "- Single thredaing: the process waits for another for finish executing before another one is attended to ( sequencial and straight forward)\n",
    "- multi thread: having multiple ques, tasks happen at the same time (execited in parralel)\n",
    "\n",
    "## Asynchonoys proogramming\n",
    "- synchonous: like reading the ebook page by page (it executes one tsep at a time)\n",
    "- asynchronous is like skimming through the book and highlighting importaint things\n",
    "    - it allows for efficient use of time and resources, handling tasks in the background\n",
    "    - it takes one execution at a time but it soesnt wait for teh other tasks to finish before executing the next step\n",
    "    why async programming\n",
    "    - allows a program to satt a potentially long-running task and be able to respond to others while still running the task\n",
    "    - faster execution"
   ]
  },
  {
   "cell_type": "code",
   "execution_count": 80,
   "metadata": {},
   "outputs": [
    {
     "name": "stdout",
     "output_type": "stream",
     "text": [
      "Collecting aiohttp\n",
      "  Downloading aiohttp-3.9.3-cp310-cp310-win_amd64.whl (365 kB)\n",
      "     -------------------------------------- 365.2/365.2 kB 2.8 MB/s eta 0:00:00\n",
      "Collecting attrs>=17.3.0\n",
      "  Downloading attrs-23.2.0-py3-none-any.whl (60 kB)\n",
      "     ---------------------------------------- 60.8/60.8 kB 3.2 MB/s eta 0:00:00\n",
      "Collecting frozenlist>=1.1.1\n",
      "  Downloading frozenlist-1.4.1-cp310-cp310-win_amd64.whl (50 kB)\n",
      "     ---------------------------------------- 50.4/50.4 kB 2.7 MB/s eta 0:00:00\n",
      "Collecting yarl<2.0,>=1.0\n",
      "  Downloading yarl-1.9.4-cp310-cp310-win_amd64.whl (76 kB)\n",
      "     ---------------------------------------- 76.4/76.4 kB 4.1 MB/s eta 0:00:00\n",
      "Collecting async-timeout<5.0,>=4.0\n",
      "  Downloading async_timeout-4.0.3-py3-none-any.whl (5.7 kB)\n",
      "Collecting aiosignal>=1.1.2\n",
      "  Downloading aiosignal-1.3.1-py3-none-any.whl (7.6 kB)\n",
      "Collecting multidict<7.0,>=4.5\n",
      "  Downloading multidict-6.0.5-cp310-cp310-win_amd64.whl (28 kB)\n",
      "Requirement already satisfied: idna>=2.0 in c:\\users\\e1005292\\onedrive - sanlam life insurance limited\\documents\\python basics\\python_module\\myenv\\lib\\site-packages (from yarl<2.0,>=1.0->aiohttp) (3.6)\n",
      "Installing collected packages: multidict, frozenlist, attrs, async-timeout, yarl, aiosignal, aiohttp\n",
      "Successfully installed aiohttp-3.9.3 aiosignal-1.3.1 async-timeout-4.0.3 attrs-23.2.0 frozenlist-1.4.1 multidict-6.0.5 yarl-1.9.4\n",
      "Note: you may need to restart the kernel to use updated packages.\n"
     ]
    },
    {
     "name": "stderr",
     "output_type": "stream",
     "text": [
      "\n",
      "[notice] A new release of pip available: 22.2.2 -> 24.0\n",
      "[notice] To update, run: python.exe -m pip install --upgrade pip\n"
     ]
    }
   ],
   "source": [
    "%pip install aiohttp"
   ]
  }
 ],
 "metadata": {
  "kernelspec": {
   "display_name": "myenv",
   "language": "python",
   "name": "python3"
  },
  "language_info": {
   "codemirror_mode": {
    "name": "ipython",
    "version": 3
   },
   "file_extension": ".py",
   "mimetype": "text/x-python",
   "name": "python",
   "nbconvert_exporter": "python",
   "pygments_lexer": "ipython3",
   "version": "3.10.8"
  }
 },
 "nbformat": 4,
 "nbformat_minor": 2
}
