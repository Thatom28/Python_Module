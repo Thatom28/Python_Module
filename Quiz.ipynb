{
 "cells": [
  {
   "cell_type": "markdown",
   "metadata": {},
   "source": [
    "## the difference between sync and async\n",
    "- sync \n",
    "## difference between create task with gather and not with gather\n",
    "\n",
    "## why are the requirest library bad to use with examle\n",
    "- they are synchonous and cannot be run concurrently\n",
    "- everytime you request the weather it goes and fetch one and comes back \n",
    "## why we use mock api\n",
    "- we can use CRUD operation\n",
    "- we can choose the size\n",
    "- we can see changes that we made\n",
    "- it is free\n",
    "## how event loop works\n",
    "- asyio.run(main()) -> when the event starts\n",
    "- it stops when the function is completed\n",
    "- if the main function does not await for other functions the function will be in the background\n",
    "- a callstack works in LIFO\n",
    "- a stack is grown when you call a function inside another finction\n",
    "- what is put in the stack is a blocking operato becasue nothing enters when a call stack is busy\n",
    "- To fix this you need to program better\n",
    "\n",
    "Manages where we schedule\n",
    "Event loop only pushed when stack is empty\n",
    " \n",
    "Starts when function is called,\n",
    "asyncio uses a call stack for the event Loop\n",
    "   \n",
    "Ends when returns or completes    \n",
    " \n",
    "When run it pauses when going to sleep\n",
    "If no await function then only the main function is executed because it won't wait\n",
    "Recursion can cause a stack overflow\n",
    "## predict the outp##gater\n",
    "- gather maintains the order, which ever one is specified first will be printed first\n",
    "\n",
    "## Things we can loop\n",
    "list, tuple, Range, dictionary, string, sets\n",
    "#f string\n",
    "- it converts data types for you\n",
    "- you can perfom operation\n",
    "- it is multilined \n",
    "- concatinates\n",
    "\n",
    "## what are magic methods and why are they used in- they are called duntter methods\n",
    "- they override object defination\n",
    "- useful for developer experience\n",
    "- why you should not use them? private \n",
    "\n",
    "## whyuse Json\n",
    "- platform independent - can be used for windows, android\n",
    "- loose couppling - changes in the back end dont matter\n",
    "- universal language (c# or java) - every language supports strings"
   ]
  }
 ],
 "metadata": {
  "language_info": {
   "name": "python"
  }
 },
 "nbformat": 4,
 "nbformat_minor": 2
}
